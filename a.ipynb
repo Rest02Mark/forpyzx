{
 "cells": [
  {
   "cell_type": "code",
   "execution_count": null,
   "id": "862014fa",
   "metadata": {},
   "outputs": [],
   "source": [
    "import pyzx as zx\n",
    "from pyzx.graph.base import BaseGraph\n",
    "\n",
    "graph = zx.graph."
   ]
  }
 ],
 "metadata": {
  "kernelspec": {
   "display_name": "venv",
   "language": "python",
   "name": "python3"
  },
  "language_info": {
   "name": "python",
   "version": "3.10.12"
  }
 },
 "nbformat": 4,
 "nbformat_minor": 5
}
