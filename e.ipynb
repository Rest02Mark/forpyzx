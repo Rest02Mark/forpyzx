{
 "cells": [
  {
   "cell_type": "code",
   "execution_count": 5,
   "metadata": {},
   "outputs": [],
   "source": [
    "import pyzx as zx\n",
    "import random\n",
    "from qiskit import QuantumCircuit\n",
    "from qiskit.circuit import QuantumCircuit, ParameterVector\n",
    "import csv\n",
    "import time"
   ]
  },
  {
   "cell_type": "code",
   "execution_count": 23,
   "metadata": {},
   "outputs": [
    {
     "name": "stdout",
     "output_type": "stream",
     "text": [
      "Circuit  on 8 qubits with 100000 gates.\n",
      "        19989 is the T-count\n",
      "        80011 Cliffords among which\n",
      "        29940 2-qubit gates (29940 CNOT, 0 other) and\n",
      "        24982 Hadamard gates.\n",
      "gate_num 100000\n",
      "gate_count OrderedDict([('cx', 29940), ('s', 25089), ('h', 24982), ('t', 19989)])\n",
      "depth 28448\n",
      "29940\n"
     ]
    }
   ],
   "source": [
    "def generate_H_S_CNOT_T_circuit(qubits, gates, p_t=0, seed=1000):\n",
    "    random.seed(seed)  \n",
    "    p_s = 0.333 * (1.0 - p_t)  \n",
    "    p_had = 0.333 * (1.0 - p_t)  \n",
    "    p_cnot = 0.333 * (1.0 - p_t)  \n",
    "\n",
    "    c = zx.Circuit(qubits) \n",
    "    for _ in range(gates):\n",
    "        r = random.random() \n",
    "        if r < p_had:\n",
    "            c.add_gate(\"HAD\", random.randrange(qubits))\n",
    "        elif r < p_had + p_s:\n",
    "            c.add_gate(\"S\", random.randrange(qubits))\n",
    "        elif r < p_had + p_s + p_t:\n",
    "            c.add_gate(\"T\", random.randrange(qubits))\n",
    "        else:\n",
    "            tgt = random.randrange(qubits)\n",
    "            while True:\n",
    "                ctrl = random.randrange(qubits)\n",
    "                if ctrl != tgt:\n",
    "                    break\n",
    "            c.add_gate(\"CNOT\", tgt, ctrl)\n",
    "    return c\n",
    "\n",
    "c = generate_H_S_CNOT_T_circuit(8,gates=100000,p_t=0.2, seed = 1000)\n",
    "print(c.stats())\n",
    "circuit_qiskit = QuantumCircuit.from_qasm_str(c.to_basic_gates().to_qasm())\n",
    "print(\"gate_num\", circuit_qiskit.size())\n",
    "print(\"gate_count\", circuit_qiskit.count_ops())\n",
    "print(\"depth\", circuit_qiskit.depth())\n",
    "\n",
    "#circuit_qiskitのそれぞれの要素の出力\n",
    "dict = circuit_qiskit.count_ops()\n",
    "print(dict[\"cx\"])"
   ]
  },
  {
   "cell_type": "code",
   "execution_count": 24,
   "metadata": {},
   "outputs": [
    {
     "name": "stdout",
     "output_type": "stream",
     "text": [
      "This function is deprecated. Call extract_circuit() instead.\n",
      "{'name': '', 'qubits': 8, 'gates': 1000, 'tcount': 185, 'clifford': 815, 'twoqubit': 288, 'cnot': 288, 'had': 281, 'measurement': 0, 'other': 0, 'depth': 0, 'depth_cz': 0}\n",
      "{'name': '', 'qubits': 8, 'gates': 2004, 'tcount': 185, 'clifford': 1819, 'twoqubit': 288, 'cnot': 0, 'had': 1285, 'measurement': 0, 'other': 0, 'depth': 0, 'depth_cz': 0}\n"
     ]
    }
   ],
   "source": [
    "c = generate_H_S_CNOT_T_circuit(8,gates=1000,p_t=0.2, seed = 1000)\n",
    "\n",
    "g = c.to_graph()\n",
    "c2 = zx.extract.streaming_extract(g)\n",
    "\n",
    "print(c.stats_dict())\n",
    "print(c2.stats_dict())"
   ]
  }
 ],
 "metadata": {
  "kernelspec": {
   "display_name": "venv",
   "language": "python",
   "name": "python3"
  },
  "language_info": {
   "codemirror_mode": {
    "name": "ipython",
    "version": 3
   },
   "file_extension": ".py",
   "mimetype": "text/x-python",
   "name": "python",
   "nbconvert_exporter": "python",
   "pygments_lexer": "ipython3",
   "version": "3.10.12"
  }
 },
 "nbformat": 4,
 "nbformat_minor": 2
}
